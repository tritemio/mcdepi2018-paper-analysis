{
 "cells": [
  {
   "cell_type": "markdown",
   "metadata": {},
   "source": [
    "# Batch run notebook\n",
    "\n",
    "> This notebook executes another notebook in batch, passing each time a different data file\n",
    "\n",
    "Make sure that `nbrun.py` is in the current folder."
   ]
  },
  {
   "cell_type": "code",
   "execution_count": 1,
   "metadata": {},
   "outputs": [],
   "source": [
    "from pathlib import Path\n",
    "from nbrun import run_notebook"
   ]
  },
  {
   "cell_type": "markdown",
   "metadata": {},
   "source": [
    "## Configuration"
   ]
  },
  {
   "cell_type": "markdown",
   "metadata": {},
   "source": [
    "Name of the notebook to be run in batch:"
   ]
  },
  {
   "cell_type": "code",
   "execution_count": 2,
   "metadata": {},
   "outputs": [],
   "source": [
    "template_notebook = 'PIE Analysis and save bursts.ipynb' "
   ]
  },
  {
   "cell_type": "markdown",
   "metadata": {},
   "source": [
    "List of data files:"
   ]
  },
  {
   "cell_type": "code",
   "execution_count": 3,
   "metadata": {},
   "outputs": [
    {
     "name": "stdout",
     "output_type": "stream",
     "text": [
      "List of data files in \"../Relevant BH measurements/dsDNA/photonHDF5\":\n",
      "\n",
      " - dsdna_d17_1\n",
      " - dsdna_d17_2\n",
      " - dsdna_d17_3\n",
      " - dsdna_d7+d17_50_50_1\n",
      " - dsdna_d7+d17_50_50_2\n",
      " - dsdna_d7+d17_50_50_3\n",
      " - dsdna_d7_1\n",
      " - dsdna_d7_2\n",
      " - dsdna_d7_3\n",
      " - irfs_dsdna\n"
     ]
    }
   ],
   "source": [
    "data_folder = Path('../Relevant BH measurements/dsDNA/photonHDF5/')\n",
    "assert data_folder.is_dir(), f'Folder not found: \"{str(data_folder)}\"'\n",
    "filelist = sorted([f for f in data_folder.glob('*.hdf5')])\n",
    "results_folder = data_folder.parent / 'results'  \n",
    "results_folder.mkdir(exist_ok=True)\n",
    "\n",
    "print(f'List of data files in \"{data_folder}\":\\n')\n",
    "for x in filelist: \n",
    "    print(f' - {x.stem}')"
   ]
  },
  {
   "cell_type": "markdown",
   "metadata": {},
   "source": [
    "## Batch execution"
   ]
  },
  {
   "cell_type": "code",
   "execution_count": 4,
   "metadata": {
    "scrolled": false
   },
   "outputs": [
    {
     "name": "stdout",
     "output_type": "stream",
     "text": [
      "\n",
      ">>> Processing file \"dsdna_d17_1.hdf5\" ...\n"
     ]
    },
    {
     "data": {
      "text/html": [
       "<a href='PIE Analysis and save bursts.ipynb' target='_blank'>PIE Analysis and save bursts.ipynb</a><br>"
      ],
      "text/plain": [
       "/mnt/wAntonio/fast_dynamics_effect_on_FRET/notebooks/PIE Analysis and save bursts.ipynb"
      ]
     },
     "metadata": {},
     "output_type": "display_data"
    },
    {
     "data": {
      "text/html": [
       "<a href='../Relevant BH measurements/dsDNA/photonHDF5/dsdna_d17_1.ipynb' target='_blank'>../Relevant BH measurements/dsDNA/photonHDF5/dsdna_d17_1.ipynb</a><br>"
      ],
      "text/plain": [
       "/mnt/wAntonio/fast_dynamics_effect_on_FRET/Relevant BH measurements/dsDNA/photonHDF5/dsdna_d17_1.ipynb"
      ]
     },
     "metadata": {},
     "output_type": "display_data"
    },
    {
     "name": "stdout",
     "output_type": "stream",
     "text": [
      "\n",
      ">>> Processing file \"dsdna_d17_2.hdf5\" ...\n"
     ]
    },
    {
     "data": {
      "text/html": [
       "<a href='PIE Analysis and save bursts.ipynb' target='_blank'>PIE Analysis and save bursts.ipynb</a><br>"
      ],
      "text/plain": [
       "/mnt/wAntonio/fast_dynamics_effect_on_FRET/notebooks/PIE Analysis and save bursts.ipynb"
      ]
     },
     "metadata": {},
     "output_type": "display_data"
    },
    {
     "data": {
      "text/html": [
       "<a href='../Relevant BH measurements/dsDNA/photonHDF5/dsdna_d17_2.ipynb' target='_blank'>../Relevant BH measurements/dsDNA/photonHDF5/dsdna_d17_2.ipynb</a><br>"
      ],
      "text/plain": [
       "/mnt/wAntonio/fast_dynamics_effect_on_FRET/Relevant BH measurements/dsDNA/photonHDF5/dsdna_d17_2.ipynb"
      ]
     },
     "metadata": {},
     "output_type": "display_data"
    },
    {
     "name": "stdout",
     "output_type": "stream",
     "text": [
      "\n",
      ">>> Processing file \"dsdna_d17_3.hdf5\" ...\n"
     ]
    },
    {
     "data": {
      "text/html": [
       "<a href='PIE Analysis and save bursts.ipynb' target='_blank'>PIE Analysis and save bursts.ipynb</a><br>"
      ],
      "text/plain": [
       "/mnt/wAntonio/fast_dynamics_effect_on_FRET/notebooks/PIE Analysis and save bursts.ipynb"
      ]
     },
     "metadata": {},
     "output_type": "display_data"
    },
    {
     "data": {
      "text/html": [
       "<a href='../Relevant BH measurements/dsDNA/photonHDF5/dsdna_d17_3.ipynb' target='_blank'>../Relevant BH measurements/dsDNA/photonHDF5/dsdna_d17_3.ipynb</a><br>"
      ],
      "text/plain": [
       "/mnt/wAntonio/fast_dynamics_effect_on_FRET/Relevant BH measurements/dsDNA/photonHDF5/dsdna_d17_3.ipynb"
      ]
     },
     "metadata": {},
     "output_type": "display_data"
    },
    {
     "name": "stdout",
     "output_type": "stream",
     "text": [
      "\n",
      ">>> Processing file \"dsdna_d7+d17_50_50_1.hdf5\" ...\n"
     ]
    },
    {
     "data": {
      "text/html": [
       "<a href='PIE Analysis and save bursts.ipynb' target='_blank'>PIE Analysis and save bursts.ipynb</a><br>"
      ],
      "text/plain": [
       "/mnt/wAntonio/fast_dynamics_effect_on_FRET/notebooks/PIE Analysis and save bursts.ipynb"
      ]
     },
     "metadata": {},
     "output_type": "display_data"
    },
    {
     "data": {
      "text/html": [
       "<a href='../Relevant BH measurements/dsDNA/photonHDF5/dsdna_d7+d17_50_50_1.ipynb' target='_blank'>../Relevant BH measurements/dsDNA/photonHDF5/dsdna_d7+d17_50_50_1.ipynb</a><br>"
      ],
      "text/plain": [
       "/mnt/wAntonio/fast_dynamics_effect_on_FRET/Relevant BH measurements/dsDNA/photonHDF5/dsdna_d7+d17_50_50_1.ipynb"
      ]
     },
     "metadata": {},
     "output_type": "display_data"
    },
    {
     "name": "stdout",
     "output_type": "stream",
     "text": [
      "\n",
      ">>> Processing file \"dsdna_d7+d17_50_50_2.hdf5\" ...\n"
     ]
    },
    {
     "data": {
      "text/html": [
       "<a href='PIE Analysis and save bursts.ipynb' target='_blank'>PIE Analysis and save bursts.ipynb</a><br>"
      ],
      "text/plain": [
       "/mnt/wAntonio/fast_dynamics_effect_on_FRET/notebooks/PIE Analysis and save bursts.ipynb"
      ]
     },
     "metadata": {},
     "output_type": "display_data"
    },
    {
     "data": {
      "text/html": [
       "<a href='../Relevant BH measurements/dsDNA/photonHDF5/dsdna_d7+d17_50_50_2.ipynb' target='_blank'>../Relevant BH measurements/dsDNA/photonHDF5/dsdna_d7+d17_50_50_2.ipynb</a><br>"
      ],
      "text/plain": [
       "/mnt/wAntonio/fast_dynamics_effect_on_FRET/Relevant BH measurements/dsDNA/photonHDF5/dsdna_d7+d17_50_50_2.ipynb"
      ]
     },
     "metadata": {},
     "output_type": "display_data"
    },
    {
     "name": "stdout",
     "output_type": "stream",
     "text": [
      "\n",
      ">>> Processing file \"dsdna_d7+d17_50_50_3.hdf5\" ...\n"
     ]
    },
    {
     "data": {
      "text/html": [
       "<a href='PIE Analysis and save bursts.ipynb' target='_blank'>PIE Analysis and save bursts.ipynb</a><br>"
      ],
      "text/plain": [
       "/mnt/wAntonio/fast_dynamics_effect_on_FRET/notebooks/PIE Analysis and save bursts.ipynb"
      ]
     },
     "metadata": {},
     "output_type": "display_data"
    },
    {
     "data": {
      "text/html": [
       "<a href='../Relevant BH measurements/dsDNA/photonHDF5/dsdna_d7+d17_50_50_3.ipynb' target='_blank'>../Relevant BH measurements/dsDNA/photonHDF5/dsdna_d7+d17_50_50_3.ipynb</a><br>"
      ],
      "text/plain": [
       "/mnt/wAntonio/fast_dynamics_effect_on_FRET/Relevant BH measurements/dsDNA/photonHDF5/dsdna_d7+d17_50_50_3.ipynb"
      ]
     },
     "metadata": {},
     "output_type": "display_data"
    },
    {
     "name": "stdout",
     "output_type": "stream",
     "text": [
      "\n",
      ">>> Processing file \"dsdna_d7_1.hdf5\" ...\n"
     ]
    },
    {
     "data": {
      "text/html": [
       "<a href='PIE Analysis and save bursts.ipynb' target='_blank'>PIE Analysis and save bursts.ipynb</a><br>"
      ],
      "text/plain": [
       "/mnt/wAntonio/fast_dynamics_effect_on_FRET/notebooks/PIE Analysis and save bursts.ipynb"
      ]
     },
     "metadata": {},
     "output_type": "display_data"
    },
    {
     "data": {
      "text/html": [
       "<a href='../Relevant BH measurements/dsDNA/photonHDF5/dsdna_d7_1.ipynb' target='_blank'>../Relevant BH measurements/dsDNA/photonHDF5/dsdna_d7_1.ipynb</a><br>"
      ],
      "text/plain": [
       "/mnt/wAntonio/fast_dynamics_effect_on_FRET/Relevant BH measurements/dsDNA/photonHDF5/dsdna_d7_1.ipynb"
      ]
     },
     "metadata": {},
     "output_type": "display_data"
    },
    {
     "name": "stdout",
     "output_type": "stream",
     "text": [
      "\n",
      ">>> Processing file \"dsdna_d7_2.hdf5\" ...\n"
     ]
    },
    {
     "data": {
      "text/html": [
       "<a href='PIE Analysis and save bursts.ipynb' target='_blank'>PIE Analysis and save bursts.ipynb</a><br>"
      ],
      "text/plain": [
       "/mnt/wAntonio/fast_dynamics_effect_on_FRET/notebooks/PIE Analysis and save bursts.ipynb"
      ]
     },
     "metadata": {},
     "output_type": "display_data"
    },
    {
     "data": {
      "text/html": [
       "<a href='../Relevant BH measurements/dsDNA/photonHDF5/dsdna_d7_2.ipynb' target='_blank'>../Relevant BH measurements/dsDNA/photonHDF5/dsdna_d7_2.ipynb</a><br>"
      ],
      "text/plain": [
       "/mnt/wAntonio/fast_dynamics_effect_on_FRET/Relevant BH measurements/dsDNA/photonHDF5/dsdna_d7_2.ipynb"
      ]
     },
     "metadata": {},
     "output_type": "display_data"
    },
    {
     "name": "stdout",
     "output_type": "stream",
     "text": [
      "\n",
      ">>> Processing file \"dsdna_d7_3.hdf5\" ...\n"
     ]
    },
    {
     "data": {
      "text/html": [
       "<a href='PIE Analysis and save bursts.ipynb' target='_blank'>PIE Analysis and save bursts.ipynb</a><br>"
      ],
      "text/plain": [
       "/mnt/wAntonio/fast_dynamics_effect_on_FRET/notebooks/PIE Analysis and save bursts.ipynb"
      ]
     },
     "metadata": {},
     "output_type": "display_data"
    },
    {
     "data": {
      "text/html": [
       "<a href='../Relevant BH measurements/dsDNA/photonHDF5/dsdna_d7_3.ipynb' target='_blank'>../Relevant BH measurements/dsDNA/photonHDF5/dsdna_d7_3.ipynb</a><br>"
      ],
      "text/plain": [
       "/mnt/wAntonio/fast_dynamics_effect_on_FRET/Relevant BH measurements/dsDNA/photonHDF5/dsdna_d7_3.ipynb"
      ]
     },
     "metadata": {},
     "output_type": "display_data"
    },
    {
     "name": "stdout",
     "output_type": "stream",
     "text": [
      "\n",
      ">>> Processing file \"irfs_dsdna.hdf5\" ...\n"
     ]
    },
    {
     "data": {
      "text/html": [
       "<a href='PIE Analysis and save bursts.ipynb' target='_blank'>PIE Analysis and save bursts.ipynb</a><br>"
      ],
      "text/plain": [
       "/mnt/wAntonio/fast_dynamics_effect_on_FRET/notebooks/PIE Analysis and save bursts.ipynb"
      ]
     },
     "metadata": {},
     "output_type": "display_data"
    },
    {
     "name": "stdout",
     "output_type": "stream",
     "text": [
      "Error executing the notebook \"PIE Analysis and save bursts.ipynb\".\n",
      "Notebook arguments: {'fname': '../Relevant BH measurements/dsDNA/photonHDF5/irfs_dsdna.hdf5'}\n",
      "\n",
      "See notebook \"../Relevant BH measurements/dsDNA/photonHDF5/irfs_dsdna.ipynb\" for the traceback.\n"
     ]
    },
    {
     "data": {
      "text/html": [
       "<a href='../Relevant BH measurements/dsDNA/photonHDF5/irfs_dsdna.ipynb' target='_blank'>../Relevant BH measurements/dsDNA/photonHDF5/irfs_dsdna.ipynb</a><br>"
      ],
      "text/plain": [
       "/mnt/wAntonio/fast_dynamics_effect_on_FRET/Relevant BH measurements/dsDNA/photonHDF5/irfs_dsdna.ipynb"
      ]
     },
     "metadata": {},
     "output_type": "display_data"
    },
    {
     "ename": "CellExecutionError",
     "evalue": "An error occurred while executing the following cell:\n------------------\nalex_jointplot(ds);\nalex_jointplot(dsf);\n------------------\n\n\u001b[0;31m---------------------------------------------------------------------------\u001b[0m\n\u001b[0;31mValueError\u001b[0m                                Traceback (most recent call last)\n\u001b[0;32m<ipython-input-27-97073584bfc2>\u001b[0m in \u001b[0;36m<module>\u001b[0;34m()\u001b[0m\n\u001b[0;32m----> 1\u001b[0;31m \u001b[0malex_jointplot\u001b[0m\u001b[0;34m(\u001b[0m\u001b[0mds\u001b[0m\u001b[0;34m)\u001b[0m\u001b[0;34m;\u001b[0m\u001b[0;34m\u001b[0m\u001b[0m\n\u001b[0m\u001b[1;32m      2\u001b[0m \u001b[0malex_jointplot\u001b[0m\u001b[0;34m(\u001b[0m\u001b[0mdsf\u001b[0m\u001b[0;34m)\u001b[0m\u001b[0;34m;\u001b[0m\u001b[0;34m\u001b[0m\u001b[0m\n\n\u001b[0;32m/opt/src/FRETBursts/fretbursts/burst_plot.py\u001b[0m in \u001b[0;36malex_jointplot\u001b[0;34m(d, i, gridsize, cmap, kind, vmax_fret, vmin, vmax, joint_kws, marginal_kws, marginal_color, rightside_text, E_name, S_name)\u001b[0m\n\u001b[1;32m   2282\u001b[0m                  if isinstance(c, PolyCollection)][0]\n\u001b[1;32m   2283\u001b[0m         \u001b[0;32mif\u001b[0m \u001b[0mvmax\u001b[0m \u001b[0;32mis\u001b[0m \u001b[0;32mNone\u001b[0m\u001b[0;34m:\u001b[0m\u001b[0;34m\u001b[0m\u001b[0m\n\u001b[0;32m-> 2284\u001b[0;31m             \u001b[0mvmax\u001b[0m \u001b[0;34m=\u001b[0m \u001b[0m_alex_hexbin_vmax\u001b[0m\u001b[0;34m(\u001b[0m\u001b[0mpolyc\u001b[0m\u001b[0;34m,\u001b[0m \u001b[0mvmax_fret\u001b[0m\u001b[0;34m=\u001b[0m\u001b[0mvmax_fret\u001b[0m\u001b[0;34m)\u001b[0m\u001b[0;34m\u001b[0m\u001b[0m\n\u001b[0m\u001b[1;32m   2285\u001b[0m         \u001b[0mpolyc\u001b[0m\u001b[0;34m.\u001b[0m\u001b[0mset_clim\u001b[0m\u001b[0;34m(\u001b[0m\u001b[0mvmin\u001b[0m\u001b[0;34m,\u001b[0m \u001b[0mvmax\u001b[0m\u001b[0;34m)\u001b[0m\u001b[0;34m\u001b[0m\u001b[0m\n\u001b[1;32m   2286\u001b[0m     \u001b[0;32melif\u001b[0m \u001b[0mkind\u001b[0m\u001b[0;34m.\u001b[0m\u001b[0mstartswith\u001b[0m\u001b[0;34m(\u001b[0m\u001b[0;34m\"kde\"\u001b[0m\u001b[0;34m)\u001b[0m\u001b[0;34m:\u001b[0m\u001b[0;34m\u001b[0m\u001b[0m\n\n\u001b[0;32m/opt/src/FRETBursts/fretbursts/burst_plot.py\u001b[0m in \u001b[0;36m_alex_hexbin_vmax\u001b[0;34m(patches, vmax_fret, Smax)\u001b[0m\n\u001b[1;32m   2184\u001b[0m         \u001b[0mxoffset\u001b[0m\u001b[0;34m,\u001b[0m \u001b[0myoffset\u001b[0m \u001b[0;34m=\u001b[0m \u001b[0moffset\u001b[0m\u001b[0;34m[\u001b[0m\u001b[0;34m:\u001b[0m\u001b[0;34m,\u001b[0m \u001b[0;36m0\u001b[0m\u001b[0;34m]\u001b[0m\u001b[0;34m,\u001b[0m \u001b[0moffset\u001b[0m\u001b[0;34m[\u001b[0m\u001b[0;34m:\u001b[0m\u001b[0;34m,\u001b[0m \u001b[0;36m1\u001b[0m\u001b[0;34m]\u001b[0m\u001b[0;34m\u001b[0m\u001b[0m\n\u001b[1;32m   2185\u001b[0m         \u001b[0mmask\u001b[0m \u001b[0;34m=\u001b[0m \u001b[0myoffset\u001b[0m \u001b[0;34m<\u001b[0m \u001b[0mSmax\u001b[0m\u001b[0;34m\u001b[0m\u001b[0m\n\u001b[0;32m-> 2186\u001b[0;31m         \u001b[0mvmax\u001b[0m \u001b[0;34m=\u001b[0m \u001b[0mcounts\u001b[0m\u001b[0;34m[\u001b[0m\u001b[0mmask\u001b[0m\u001b[0;34m]\u001b[0m\u001b[0;34m.\u001b[0m\u001b[0mmax\u001b[0m\u001b[0;34m(\u001b[0m\u001b[0;34m)\u001b[0m\u001b[0;34m\u001b[0m\u001b[0m\n\u001b[0m\u001b[1;32m   2187\u001b[0m     \u001b[0;32melse\u001b[0m\u001b[0;34m:\u001b[0m\u001b[0;34m\u001b[0m\u001b[0m\n\u001b[1;32m   2188\u001b[0m         \u001b[0mvmax\u001b[0m \u001b[0;34m=\u001b[0m \u001b[0mcounts\u001b[0m\u001b[0;34m.\u001b[0m\u001b[0mmax\u001b[0m\u001b[0;34m(\u001b[0m\u001b[0;34m)\u001b[0m\u001b[0;34m\u001b[0m\u001b[0m\n\n\u001b[0;32m/opt/conda/miniconda3/envs/py36-sys/lib/python3.6/site-packages/numpy/core/_methods.py\u001b[0m in \u001b[0;36m_amax\u001b[0;34m(a, axis, out, keepdims)\u001b[0m\n\u001b[1;32m     24\u001b[0m \u001b[0;31m# small reductions\u001b[0m\u001b[0;34m\u001b[0m\u001b[0;34m\u001b[0m\u001b[0m\n\u001b[1;32m     25\u001b[0m \u001b[0;32mdef\u001b[0m \u001b[0m_amax\u001b[0m\u001b[0;34m(\u001b[0m\u001b[0ma\u001b[0m\u001b[0;34m,\u001b[0m \u001b[0maxis\u001b[0m\u001b[0;34m=\u001b[0m\u001b[0;32mNone\u001b[0m\u001b[0;34m,\u001b[0m \u001b[0mout\u001b[0m\u001b[0;34m=\u001b[0m\u001b[0;32mNone\u001b[0m\u001b[0;34m,\u001b[0m \u001b[0mkeepdims\u001b[0m\u001b[0;34m=\u001b[0m\u001b[0;32mFalse\u001b[0m\u001b[0;34m)\u001b[0m\u001b[0;34m:\u001b[0m\u001b[0;34m\u001b[0m\u001b[0m\n\u001b[0;32m---> 26\u001b[0;31m     \u001b[0;32mreturn\u001b[0m \u001b[0mumr_maximum\u001b[0m\u001b[0;34m(\u001b[0m\u001b[0ma\u001b[0m\u001b[0;34m,\u001b[0m \u001b[0maxis\u001b[0m\u001b[0;34m,\u001b[0m \u001b[0;32mNone\u001b[0m\u001b[0;34m,\u001b[0m \u001b[0mout\u001b[0m\u001b[0;34m,\u001b[0m \u001b[0mkeepdims\u001b[0m\u001b[0;34m)\u001b[0m\u001b[0;34m\u001b[0m\u001b[0m\n\u001b[0m\u001b[1;32m     27\u001b[0m \u001b[0;34m\u001b[0m\u001b[0m\n\u001b[1;32m     28\u001b[0m \u001b[0;32mdef\u001b[0m \u001b[0m_amin\u001b[0m\u001b[0;34m(\u001b[0m\u001b[0ma\u001b[0m\u001b[0;34m,\u001b[0m \u001b[0maxis\u001b[0m\u001b[0;34m=\u001b[0m\u001b[0;32mNone\u001b[0m\u001b[0;34m,\u001b[0m \u001b[0mout\u001b[0m\u001b[0;34m=\u001b[0m\u001b[0;32mNone\u001b[0m\u001b[0;34m,\u001b[0m \u001b[0mkeepdims\u001b[0m\u001b[0;34m=\u001b[0m\u001b[0;32mFalse\u001b[0m\u001b[0;34m)\u001b[0m\u001b[0;34m:\u001b[0m\u001b[0;34m\u001b[0m\u001b[0m\n\n\u001b[0;31mValueError\u001b[0m: zero-size array to reduction operation maximum which has no identity\nValueError: zero-size array to reduction operation maximum which has no identity\n",
     "output_type": "error",
     "traceback": [
      "\u001b[0;31m---------------------------------------------------------------------------\u001b[0m",
      "\u001b[0;31mCellExecutionError\u001b[0m                        Traceback (most recent call last)",
      "\u001b[0;32m<ipython-input-4-6a955af524d4>\u001b[0m in \u001b[0;36m<module>\u001b[0;34m()\u001b[0m\n\u001b[1;32m      3\u001b[0m     \u001b[0mout_notebook\u001b[0m \u001b[0;34m=\u001b[0m \u001b[0mdatafile\u001b[0m\u001b[0;34m.\u001b[0m\u001b[0mparent\u001b[0m \u001b[0;34m/\u001b[0m \u001b[0;34m(\u001b[0m\u001b[0mdatafile\u001b[0m\u001b[0;34m.\u001b[0m\u001b[0mstem\u001b[0m \u001b[0;34m+\u001b[0m \u001b[0;34m'.ipynb'\u001b[0m\u001b[0;34m)\u001b[0m\u001b[0;34m\u001b[0m\u001b[0m\n\u001b[1;32m      4\u001b[0m     run_notebook(template_notebook, out_path_ipynb=out_notebook, \n\u001b[0;32m----> 5\u001b[0;31m                  kernel_name='python3', nb_kwargs={'fname': str(datafile)})\n\u001b[0m",
      "\u001b[0;32m/mnt/wAntonio/fast_dynamics_effect_on_FRET/notebooks/nbrun.py\u001b[0m in \u001b[0;36mrun_notebook\u001b[0;34m(notebook_path, nb_kwargs, suffix, out_path_ipynb, out_path_html, kernel_name, working_dir, timeout, execute_kwargs, save_ipynb, save_html, insert_pos, hide_input, display_links, return_nb, add_timestamp)\u001b[0m\n\u001b[1;32m    159\u001b[0m     \u001b[0;32mtry\u001b[0m\u001b[0;34m:\u001b[0m\u001b[0;34m\u001b[0m\u001b[0m\n\u001b[1;32m    160\u001b[0m         \u001b[0;31m# Execute the notebook\u001b[0m\u001b[0;34m\u001b[0m\u001b[0;34m\u001b[0m\u001b[0m\n\u001b[0;32m--> 161\u001b[0;31m         \u001b[0mep\u001b[0m\u001b[0;34m.\u001b[0m\u001b[0mpreprocess\u001b[0m\u001b[0;34m(\u001b[0m\u001b[0mnb\u001b[0m\u001b[0;34m,\u001b[0m \u001b[0;34m{\u001b[0m\u001b[0;34m'metadata'\u001b[0m\u001b[0;34m:\u001b[0m \u001b[0;34m{\u001b[0m\u001b[0;34m'path'\u001b[0m\u001b[0;34m:\u001b[0m \u001b[0mworking_dir\u001b[0m\u001b[0;34m}\u001b[0m\u001b[0;34m}\u001b[0m\u001b[0;34m)\u001b[0m\u001b[0;34m\u001b[0m\u001b[0m\n\u001b[0m\u001b[1;32m    162\u001b[0m     \u001b[0;32mexcept\u001b[0m\u001b[0;34m:\u001b[0m\u001b[0;34m\u001b[0m\u001b[0m\n\u001b[1;32m    163\u001b[0m         \u001b[0;31m# Execution failed, print a message then raise.\u001b[0m\u001b[0;34m\u001b[0m\u001b[0;34m\u001b[0m\u001b[0m\n",
      "\u001b[0;32m/opt/conda/miniconda3/envs/py36-sys/lib/python3.6/site-packages/nbconvert/preprocessors/execute.py\u001b[0m in \u001b[0;36mpreprocess\u001b[0;34m(self, nb, resources)\u001b[0m\n\u001b[1;32m    260\u001b[0m \u001b[0;34m\u001b[0m\u001b[0m\n\u001b[1;32m    261\u001b[0m         \u001b[0;32mtry\u001b[0m\u001b[0;34m:\u001b[0m\u001b[0;34m\u001b[0m\u001b[0m\n\u001b[0;32m--> 262\u001b[0;31m             \u001b[0mnb\u001b[0m\u001b[0;34m,\u001b[0m \u001b[0mresources\u001b[0m \u001b[0;34m=\u001b[0m \u001b[0msuper\u001b[0m\u001b[0;34m(\u001b[0m\u001b[0mExecutePreprocessor\u001b[0m\u001b[0;34m,\u001b[0m \u001b[0mself\u001b[0m\u001b[0;34m)\u001b[0m\u001b[0;34m.\u001b[0m\u001b[0mpreprocess\u001b[0m\u001b[0;34m(\u001b[0m\u001b[0mnb\u001b[0m\u001b[0;34m,\u001b[0m \u001b[0mresources\u001b[0m\u001b[0;34m)\u001b[0m\u001b[0;34m\u001b[0m\u001b[0m\n\u001b[0m\u001b[1;32m    263\u001b[0m         \u001b[0;32mfinally\u001b[0m\u001b[0;34m:\u001b[0m\u001b[0;34m\u001b[0m\u001b[0m\n\u001b[1;32m    264\u001b[0m             \u001b[0mself\u001b[0m\u001b[0;34m.\u001b[0m\u001b[0mkc\u001b[0m\u001b[0;34m.\u001b[0m\u001b[0mstop_channels\u001b[0m\u001b[0;34m(\u001b[0m\u001b[0;34m)\u001b[0m\u001b[0;34m\u001b[0m\u001b[0m\n",
      "\u001b[0;32m/opt/conda/miniconda3/envs/py36-sys/lib/python3.6/site-packages/nbconvert/preprocessors/base.py\u001b[0m in \u001b[0;36mpreprocess\u001b[0;34m(self, nb, resources)\u001b[0m\n\u001b[1;32m     67\u001b[0m         \"\"\"\n\u001b[1;32m     68\u001b[0m         \u001b[0;32mfor\u001b[0m \u001b[0mindex\u001b[0m\u001b[0;34m,\u001b[0m \u001b[0mcell\u001b[0m \u001b[0;32min\u001b[0m \u001b[0menumerate\u001b[0m\u001b[0;34m(\u001b[0m\u001b[0mnb\u001b[0m\u001b[0;34m.\u001b[0m\u001b[0mcells\u001b[0m\u001b[0;34m)\u001b[0m\u001b[0;34m:\u001b[0m\u001b[0;34m\u001b[0m\u001b[0m\n\u001b[0;32m---> 69\u001b[0;31m             \u001b[0mnb\u001b[0m\u001b[0;34m.\u001b[0m\u001b[0mcells\u001b[0m\u001b[0;34m[\u001b[0m\u001b[0mindex\u001b[0m\u001b[0;34m]\u001b[0m\u001b[0;34m,\u001b[0m \u001b[0mresources\u001b[0m \u001b[0;34m=\u001b[0m \u001b[0mself\u001b[0m\u001b[0;34m.\u001b[0m\u001b[0mpreprocess_cell\u001b[0m\u001b[0;34m(\u001b[0m\u001b[0mcell\u001b[0m\u001b[0;34m,\u001b[0m \u001b[0mresources\u001b[0m\u001b[0;34m,\u001b[0m \u001b[0mindex\u001b[0m\u001b[0;34m)\u001b[0m\u001b[0;34m\u001b[0m\u001b[0m\n\u001b[0m\u001b[1;32m     70\u001b[0m         \u001b[0;32mreturn\u001b[0m \u001b[0mnb\u001b[0m\u001b[0;34m,\u001b[0m \u001b[0mresources\u001b[0m\u001b[0;34m\u001b[0m\u001b[0m\n\u001b[1;32m     71\u001b[0m \u001b[0;34m\u001b[0m\u001b[0m\n",
      "\u001b[0;32m/opt/conda/miniconda3/envs/py36-sys/lib/python3.6/site-packages/nbconvert/preprocessors/execute.py\u001b[0m in \u001b[0;36mpreprocess_cell\u001b[0;34m(self, cell, resources, cell_index)\u001b[0m\n\u001b[1;32m    284\u001b[0m             \u001b[0;32mfor\u001b[0m \u001b[0mout\u001b[0m \u001b[0;32min\u001b[0m \u001b[0moutputs\u001b[0m\u001b[0;34m:\u001b[0m\u001b[0;34m\u001b[0m\u001b[0m\n\u001b[1;32m    285\u001b[0m                 \u001b[0;32mif\u001b[0m \u001b[0mout\u001b[0m\u001b[0;34m.\u001b[0m\u001b[0moutput_type\u001b[0m \u001b[0;34m==\u001b[0m \u001b[0;34m'error'\u001b[0m\u001b[0;34m:\u001b[0m\u001b[0;34m\u001b[0m\u001b[0m\n\u001b[0;32m--> 286\u001b[0;31m                     \u001b[0;32mraise\u001b[0m \u001b[0mCellExecutionError\u001b[0m\u001b[0;34m.\u001b[0m\u001b[0mfrom_cell_and_msg\u001b[0m\u001b[0;34m(\u001b[0m\u001b[0mcell\u001b[0m\u001b[0;34m,\u001b[0m \u001b[0mout\u001b[0m\u001b[0;34m)\u001b[0m\u001b[0;34m\u001b[0m\u001b[0m\n\u001b[0m\u001b[1;32m    287\u001b[0m             \u001b[0;32mif\u001b[0m \u001b[0;34m(\u001b[0m\u001b[0mreply\u001b[0m \u001b[0;32mis\u001b[0m \u001b[0;32mnot\u001b[0m \u001b[0;32mNone\u001b[0m\u001b[0;34m)\u001b[0m \u001b[0;32mand\u001b[0m \u001b[0mreply\u001b[0m\u001b[0;34m[\u001b[0m\u001b[0;34m'content'\u001b[0m\u001b[0;34m]\u001b[0m\u001b[0;34m[\u001b[0m\u001b[0;34m'status'\u001b[0m\u001b[0;34m]\u001b[0m \u001b[0;34m==\u001b[0m \u001b[0;34m'error'\u001b[0m\u001b[0;34m:\u001b[0m\u001b[0;34m\u001b[0m\u001b[0m\n\u001b[1;32m    288\u001b[0m                 \u001b[0;32mraise\u001b[0m \u001b[0mCellExecutionError\u001b[0m\u001b[0;34m.\u001b[0m\u001b[0mfrom_cell_and_msg\u001b[0m\u001b[0;34m(\u001b[0m\u001b[0mcell\u001b[0m\u001b[0;34m,\u001b[0m \u001b[0mreply\u001b[0m\u001b[0;34m[\u001b[0m\u001b[0;34m'content'\u001b[0m\u001b[0;34m]\u001b[0m\u001b[0;34m)\u001b[0m\u001b[0;34m\u001b[0m\u001b[0m\n",
      "\u001b[0;31mCellExecutionError\u001b[0m: An error occurred while executing the following cell:\n------------------\nalex_jointplot(ds);\nalex_jointplot(dsf);\n------------------\n\n\u001b[0;31m---------------------------------------------------------------------------\u001b[0m\n\u001b[0;31mValueError\u001b[0m                                Traceback (most recent call last)\n\u001b[0;32m<ipython-input-27-97073584bfc2>\u001b[0m in \u001b[0;36m<module>\u001b[0;34m()\u001b[0m\n\u001b[0;32m----> 1\u001b[0;31m \u001b[0malex_jointplot\u001b[0m\u001b[0;34m(\u001b[0m\u001b[0mds\u001b[0m\u001b[0;34m)\u001b[0m\u001b[0;34m;\u001b[0m\u001b[0;34m\u001b[0m\u001b[0m\n\u001b[0m\u001b[1;32m      2\u001b[0m \u001b[0malex_jointplot\u001b[0m\u001b[0;34m(\u001b[0m\u001b[0mdsf\u001b[0m\u001b[0;34m)\u001b[0m\u001b[0;34m;\u001b[0m\u001b[0;34m\u001b[0m\u001b[0m\n\n\u001b[0;32m/opt/src/FRETBursts/fretbursts/burst_plot.py\u001b[0m in \u001b[0;36malex_jointplot\u001b[0;34m(d, i, gridsize, cmap, kind, vmax_fret, vmin, vmax, joint_kws, marginal_kws, marginal_color, rightside_text, E_name, S_name)\u001b[0m\n\u001b[1;32m   2282\u001b[0m                  if isinstance(c, PolyCollection)][0]\n\u001b[1;32m   2283\u001b[0m         \u001b[0;32mif\u001b[0m \u001b[0mvmax\u001b[0m \u001b[0;32mis\u001b[0m \u001b[0;32mNone\u001b[0m\u001b[0;34m:\u001b[0m\u001b[0;34m\u001b[0m\u001b[0m\n\u001b[0;32m-> 2284\u001b[0;31m             \u001b[0mvmax\u001b[0m \u001b[0;34m=\u001b[0m \u001b[0m_alex_hexbin_vmax\u001b[0m\u001b[0;34m(\u001b[0m\u001b[0mpolyc\u001b[0m\u001b[0;34m,\u001b[0m \u001b[0mvmax_fret\u001b[0m\u001b[0;34m=\u001b[0m\u001b[0mvmax_fret\u001b[0m\u001b[0;34m)\u001b[0m\u001b[0;34m\u001b[0m\u001b[0m\n\u001b[0m\u001b[1;32m   2285\u001b[0m         \u001b[0mpolyc\u001b[0m\u001b[0;34m.\u001b[0m\u001b[0mset_clim\u001b[0m\u001b[0;34m(\u001b[0m\u001b[0mvmin\u001b[0m\u001b[0;34m,\u001b[0m \u001b[0mvmax\u001b[0m\u001b[0;34m)\u001b[0m\u001b[0;34m\u001b[0m\u001b[0m\n\u001b[1;32m   2286\u001b[0m     \u001b[0;32melif\u001b[0m \u001b[0mkind\u001b[0m\u001b[0;34m.\u001b[0m\u001b[0mstartswith\u001b[0m\u001b[0;34m(\u001b[0m\u001b[0;34m\"kde\"\u001b[0m\u001b[0;34m)\u001b[0m\u001b[0;34m:\u001b[0m\u001b[0;34m\u001b[0m\u001b[0m\n\n\u001b[0;32m/opt/src/FRETBursts/fretbursts/burst_plot.py\u001b[0m in \u001b[0;36m_alex_hexbin_vmax\u001b[0;34m(patches, vmax_fret, Smax)\u001b[0m\n\u001b[1;32m   2184\u001b[0m         \u001b[0mxoffset\u001b[0m\u001b[0;34m,\u001b[0m \u001b[0myoffset\u001b[0m \u001b[0;34m=\u001b[0m \u001b[0moffset\u001b[0m\u001b[0;34m[\u001b[0m\u001b[0;34m:\u001b[0m\u001b[0;34m,\u001b[0m \u001b[0;36m0\u001b[0m\u001b[0;34m]\u001b[0m\u001b[0;34m,\u001b[0m \u001b[0moffset\u001b[0m\u001b[0;34m[\u001b[0m\u001b[0;34m:\u001b[0m\u001b[0;34m,\u001b[0m \u001b[0;36m1\u001b[0m\u001b[0;34m]\u001b[0m\u001b[0;34m\u001b[0m\u001b[0m\n\u001b[1;32m   2185\u001b[0m         \u001b[0mmask\u001b[0m \u001b[0;34m=\u001b[0m \u001b[0myoffset\u001b[0m \u001b[0;34m<\u001b[0m \u001b[0mSmax\u001b[0m\u001b[0;34m\u001b[0m\u001b[0m\n\u001b[0;32m-> 2186\u001b[0;31m         \u001b[0mvmax\u001b[0m \u001b[0;34m=\u001b[0m \u001b[0mcounts\u001b[0m\u001b[0;34m[\u001b[0m\u001b[0mmask\u001b[0m\u001b[0;34m]\u001b[0m\u001b[0;34m.\u001b[0m\u001b[0mmax\u001b[0m\u001b[0;34m(\u001b[0m\u001b[0;34m)\u001b[0m\u001b[0;34m\u001b[0m\u001b[0m\n\u001b[0m\u001b[1;32m   2187\u001b[0m     \u001b[0;32melse\u001b[0m\u001b[0;34m:\u001b[0m\u001b[0;34m\u001b[0m\u001b[0m\n\u001b[1;32m   2188\u001b[0m         \u001b[0mvmax\u001b[0m \u001b[0;34m=\u001b[0m \u001b[0mcounts\u001b[0m\u001b[0;34m.\u001b[0m\u001b[0mmax\u001b[0m\u001b[0;34m(\u001b[0m\u001b[0;34m)\u001b[0m\u001b[0;34m\u001b[0m\u001b[0m\n\n\u001b[0;32m/opt/conda/miniconda3/envs/py36-sys/lib/python3.6/site-packages/numpy/core/_methods.py\u001b[0m in \u001b[0;36m_amax\u001b[0;34m(a, axis, out, keepdims)\u001b[0m\n\u001b[1;32m     24\u001b[0m \u001b[0;31m# small reductions\u001b[0m\u001b[0;34m\u001b[0m\u001b[0;34m\u001b[0m\u001b[0m\n\u001b[1;32m     25\u001b[0m \u001b[0;32mdef\u001b[0m \u001b[0m_amax\u001b[0m\u001b[0;34m(\u001b[0m\u001b[0ma\u001b[0m\u001b[0;34m,\u001b[0m \u001b[0maxis\u001b[0m\u001b[0;34m=\u001b[0m\u001b[0;32mNone\u001b[0m\u001b[0;34m,\u001b[0m \u001b[0mout\u001b[0m\u001b[0;34m=\u001b[0m\u001b[0;32mNone\u001b[0m\u001b[0;34m,\u001b[0m \u001b[0mkeepdims\u001b[0m\u001b[0;34m=\u001b[0m\u001b[0;32mFalse\u001b[0m\u001b[0;34m)\u001b[0m\u001b[0;34m:\u001b[0m\u001b[0;34m\u001b[0m\u001b[0m\n\u001b[0;32m---> 26\u001b[0;31m     \u001b[0;32mreturn\u001b[0m \u001b[0mumr_maximum\u001b[0m\u001b[0;34m(\u001b[0m\u001b[0ma\u001b[0m\u001b[0;34m,\u001b[0m \u001b[0maxis\u001b[0m\u001b[0;34m,\u001b[0m \u001b[0;32mNone\u001b[0m\u001b[0;34m,\u001b[0m \u001b[0mout\u001b[0m\u001b[0;34m,\u001b[0m \u001b[0mkeepdims\u001b[0m\u001b[0;34m)\u001b[0m\u001b[0;34m\u001b[0m\u001b[0m\n\u001b[0m\u001b[1;32m     27\u001b[0m \u001b[0;34m\u001b[0m\u001b[0m\n\u001b[1;32m     28\u001b[0m \u001b[0;32mdef\u001b[0m \u001b[0m_amin\u001b[0m\u001b[0;34m(\u001b[0m\u001b[0ma\u001b[0m\u001b[0;34m,\u001b[0m \u001b[0maxis\u001b[0m\u001b[0;34m=\u001b[0m\u001b[0;32mNone\u001b[0m\u001b[0;34m,\u001b[0m \u001b[0mout\u001b[0m\u001b[0;34m=\u001b[0m\u001b[0;32mNone\u001b[0m\u001b[0;34m,\u001b[0m \u001b[0mkeepdims\u001b[0m\u001b[0;34m=\u001b[0m\u001b[0;32mFalse\u001b[0m\u001b[0;34m)\u001b[0m\u001b[0;34m:\u001b[0m\u001b[0;34m\u001b[0m\u001b[0m\n\n\u001b[0;31mValueError\u001b[0m: zero-size array to reduction operation maximum which has no identity\nValueError: zero-size array to reduction operation maximum which has no identity\n"
     ]
    }
   ],
   "source": [
    "for datafile in filelist:\n",
    "    print(f'\\n>>> Processing file \"{datafile.name}\" ...')\n",
    "    out_notebook = datafile.parent / (datafile.stem + '.ipynb')\n",
    "    run_notebook(template_notebook, out_path_ipynb=out_notebook, \n",
    "                 kernel_name='python3', nb_kwargs={'fname': str(datafile)})"
   ]
  },
  {
   "cell_type": "code",
   "execution_count": null,
   "metadata": {},
   "outputs": [],
   "source": []
  }
 ],
 "metadata": {
  "kernelspec": {
   "display_name": "Python (py36-sys)",
   "language": "python",
   "name": "py36-sys"
  },
  "language_info": {
   "codemirror_mode": {
    "name": "ipython",
    "version": 3
   },
   "file_extension": ".py",
   "mimetype": "text/x-python",
   "name": "python",
   "nbconvert_exporter": "python",
   "pygments_lexer": "ipython3",
   "version": "3.6.4"
  },
  "nav_menu": {},
  "toc": {
   "nav_menu": {},
   "number_sections": false,
   "sideBar": true,
   "skip_h1_title": false,
   "toc_cell": false,
   "toc_position": {},
   "toc_section_display": "block",
   "toc_window_display": true
  },
  "varInspector": {
   "cols": {
    "lenName": 16,
    "lenType": 16,
    "lenVar": 40
   },
   "kernels_config": {
    "python": {
     "delete_cmd_postfix": "",
     "delete_cmd_prefix": "del ",
     "library": "var_list.py",
     "varRefreshCmd": "print(var_dic_list())"
    },
    "r": {
     "delete_cmd_postfix": ") ",
     "delete_cmd_prefix": "rm(",
     "library": "var_list.r",
     "varRefreshCmd": "cat(var_dic_list()) "
    }
   },
   "types_to_exclude": [
    "module",
    "function",
    "builtin_function_or_method",
    "instance",
    "_Feature"
   ],
   "window_display": false
  }
 },
 "nbformat": 4,
 "nbformat_minor": 1
}
