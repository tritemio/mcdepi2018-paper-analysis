{
 "cells": [
  {
   "cell_type": "markdown",
   "metadata": {},
   "source": [
    "# Continous-Time Markov Chain\n",
    "\n",
    "> Notation follows: [Glen Takahara MTHE/STAT455, STAT855 Lecture Notes 2017 - Set5.pdf]()"
   ]
  },
  {
   "cell_type": "code",
   "execution_count": 4,
   "metadata": {},
   "outputs": [],
   "source": [
    "import numpy as np\n",
    "import scipy.linalg as la\n",
    "import matplotlib.pyplot as plt\n",
    "%matplotlib inline"
   ]
  },
  {
   "cell_type": "code",
   "execution_count": 5,
   "metadata": {},
   "outputs": [],
   "source": [
    "def G_from_Q(Q):\n",
    "    G = Q.copy()\n",
    "    G[np.diag_indices_from(G)] = -leaving_rates(Q)\n",
    "    return G\n",
    "\n",
    "def Q_from_G(G):\n",
    "    Q = G.copy()\n",
    "    Q[np.diag_indices_from(Q)] = 0\n",
    "    return Q\n",
    "\n",
    "def leaving_rates(G):\n",
    "    Q = Q_from_G(G)\n",
    "    return Q.sum(1)\n",
    "\n",
    "def entering_rates(G):\n",
    "    Q = Q_from_G(G)\n",
    "    return Q.sum(0)\n",
    "\n",
    "def P_from_G(G):\n",
    "    Q = Q_from_G(G)\n",
    "    return Q / leaving_rates(Q)[np.newaxis, :].T\n",
    "\n",
    "# Tests\n",
    "num_states = 3\n",
    "Q = np.zeros((num_states, num_states))\n",
    "Q[0,1] = 100;  Q[0,2] = 500\n",
    "Q[1,0] = 1000; Q[1,2] = 300\n",
    "Q[2,0] = 500;  Q[2,1] = 200\n",
    "G = G_from_Q(Q)\n",
    "assert np.all(Q == Q_from_G(G))  # round-trip\n",
    "assert np.all(np.diagonal(G) == -leaving_rates(G))"
   ]
  },
  {
   "cell_type": "code",
   "execution_count": 39,
   "metadata": {},
   "outputs": [
    {
     "data": {
      "text/plain": [
       "array([[  0., 100.,  80.],\n",
       "       [110.,   0.,  90.],\n",
       "       [115.,  67.,   0.]])"
      ]
     },
     "execution_count": 39,
     "metadata": {},
     "output_type": "execute_result"
    }
   ],
   "source": [
    "num_states = 3\n",
    "Q = np.zeros((num_states, num_states))\n",
    "\n",
    "Q[0,1] = 100\n",
    "Q[1,0] = 100\n",
    "Q[0,2] = 1\n",
    "Q[1,2] = 1\n",
    "Q[2,0] = 1\n",
    "Q[2,1] = 1\n",
    "Q"
   ]
  },
  {
   "cell_type": "code",
   "execution_count": 4,
   "metadata": {},
   "outputs": [],
   "source": [
    "# Example from G. Amir CTMC Notes, pag. 167\n",
    "Q = np.array([[0, 3, 1, 1],\n",
    "              [1, 0, 0, 0],\n",
    "              [2, 1, 0, 1],\n",
    "              [0, 2, 2, 0]])"
   ]
  },
  {
   "cell_type": "code",
   "execution_count": 40,
   "metadata": {},
   "outputs": [
    {
     "data": {
      "text/plain": [
       "array([[-180.,  100.,   80.],\n",
       "       [ 110., -200.,   90.],\n",
       "       [ 115.,   67., -182.]])"
      ]
     },
     "execution_count": 40,
     "metadata": {},
     "output_type": "execute_result"
    }
   ],
   "source": [
    "G = G_from_Q(Q)\n",
    "G"
   ]
  },
  {
   "cell_type": "code",
   "execution_count": 41,
   "metadata": {},
   "outputs": [
    {
     "data": {
      "text/plain": [
       "array([[0.        , 0.55555556, 0.44444444],\n",
       "       [0.55      , 0.        , 0.45      ],\n",
       "       [0.63186813, 0.36813187, 0.        ]])"
      ]
     },
     "execution_count": 41,
     "metadata": {},
     "output_type": "execute_result"
    }
   ],
   "source": [
    "P = P_from_G(G)\n",
    "P"
   ]
  },
  {
   "cell_type": "code",
   "execution_count": 42,
   "metadata": {},
   "outputs": [
    {
     "data": {
      "text/plain": [
       "array([5.28034678e-01, 4.71965322e-01, 2.42732576e-17])"
      ]
     },
     "execution_count": 42,
     "metadata": {},
     "output_type": "execute_result"
    }
   ],
   "source": [
    "U, s, Vh = la.svd(G)\n",
    "s / s.sum()"
   ]
  },
  {
   "cell_type": "code",
   "execution_count": 10,
   "metadata": {},
   "outputs": [
    {
     "data": {
      "text/plain": [
       "array([7.46268657e-01-3.28453455e-09j, 2.53731343e-01-1.11674175e-09j,\n",
       "       1.93712330e-17+4.40127629e-09j])"
      ]
     },
     "execution_count": 10,
     "metadata": {},
     "output_type": "execute_result"
    }
   ],
   "source": [
    "e1 = np.sqrt(la.eig(G @ G.T)[0])\n",
    "e1 / e1.sum()"
   ]
  },
  {
   "cell_type": "code",
   "execution_count": 11,
   "metadata": {},
   "outputs": [
    {
     "data": {
      "text/plain": [
       "False"
      ]
     },
     "execution_count": 11,
     "metadata": {},
     "output_type": "execute_result"
    }
   ],
   "source": [
    "np.allclose(sorted(e1)[::-1][:3], s[:3])"
   ]
  },
  {
   "cell_type": "markdown",
   "metadata": {},
   "source": [
    "## Right eigenvector"
   ]
  },
  {
   "cell_type": "code",
   "execution_count": 10,
   "metadata": {},
   "outputs": [
    {
     "data": {
      "text/plain": [
       "array([-5.75577357e+00+0.47447678j, -5.75577357e+00-0.47447678j,\n",
       "       -1.98719070e-16+0.j        , -2.48845286e+00+0.j        ])"
      ]
     },
     "execution_count": 10,
     "metadata": {},
     "output_type": "execute_result"
    }
   ],
   "source": [
    "λ, V = la.eig(G)\n",
    "λ"
   ]
  },
  {
   "cell_type": "code",
   "execution_count": 11,
   "metadata": {},
   "outputs": [],
   "source": [
    "for i, λi in enumerate(λ):\n",
    "    assert np.allclose(G @ V[:,0], λ[0] * V[:,0])"
   ]
  },
  {
   "cell_type": "markdown",
   "metadata": {},
   "source": [
    "## Left Eigenvector"
   ]
  },
  {
   "cell_type": "code",
   "execution_count": 12,
   "metadata": {},
   "outputs": [
    {
     "data": {
      "text/plain": [
       "array([ 4.44089210e-16+0.j        , -2.48845286e+00+0.j        ,\n",
       "       -5.75577357e+00+0.47447678j, -5.75577357e+00-0.47447678j])"
      ]
     },
     "execution_count": 12,
     "metadata": {},
     "output_type": "execute_result"
    }
   ],
   "source": [
    "λ, V = la.eig(G.T)\n",
    "λ"
   ]
  },
  {
   "cell_type": "code",
   "execution_count": 13,
   "metadata": {},
   "outputs": [],
   "source": [
    "for i, λi in enumerate(λ):\n",
    "    assert np.allclose(V[:,i] @ G, λ[i] * V[:,i])"
   ]
  },
  {
   "cell_type": "code",
   "execution_count": 14,
   "metadata": {},
   "outputs": [
    {
     "data": {
      "text/plain": [
       "array([0.1686747 , 0.69879518, 0.07228916, 0.06024096])"
      ]
     },
     "execution_count": 14,
     "metadata": {},
     "output_type": "execute_result"
    }
   ],
   "source": [
    "(V[:,0]/V[:,0].sum()).real"
   ]
  },
  {
   "cell_type": "code",
   "execution_count": 15,
   "metadata": {},
   "outputs": [
    {
     "data": {
      "text/plain": [
       "array([0.1686747 , 0.69879518, 0.07228916, 0.06024096])"
      ]
     },
     "execution_count": 15,
     "metadata": {},
     "output_type": "execute_result"
    }
   ],
   "source": [
    "np.array([14, 58, 6, 5])/83  ## Solution from G. Amir CTMC Notes, pag. 167"
   ]
  },
  {
   "cell_type": "markdown",
   "metadata": {},
   "source": [
    "## Stationary solution\n",
    "\n",
    "$$ \\bf{\\pi \\, G = 0}$$"
   ]
  },
  {
   "cell_type": "markdown",
   "metadata": {},
   "source": [
    "Let's compute the left eigenvalue $\\lambda$ and left eigenvectors $V$:"
   ]
  },
  {
   "cell_type": "code",
   "execution_count": 16,
   "metadata": {},
   "outputs": [
    {
     "data": {
      "text/plain": [
       "array([ 4.44089210e-16+0.j        , -2.48845286e+00+0.j        ,\n",
       "       -5.75577357e+00+0.47447678j, -5.75577357e+00-0.47447678j])"
      ]
     },
     "execution_count": 16,
     "metadata": {},
     "output_type": "execute_result"
    }
   ],
   "source": [
    "λ, V = la.eig(G.T)\n",
    "λ"
   ]
  },
  {
   "cell_type": "markdown",
   "metadata": {},
   "source": [
    "The stationary distribution is the eigenvector of the zero eigenvalue.\n",
    "\n",
    "First we find the position of the zero eigenvalue:"
   ]
  },
  {
   "cell_type": "code",
   "execution_count": 17,
   "metadata": {},
   "outputs": [
    {
     "data": {
      "text/plain": [
       "array([0])"
      ]
     },
     "execution_count": 17,
     "metadata": {},
     "output_type": "execute_result"
    }
   ],
   "source": [
    "i_zero_left_eig = np.where(np.abs(λ) < 1e-12)[0]\n",
    "i_zero_left_eig"
   ]
  },
  {
   "cell_type": "code",
   "execution_count": 18,
   "metadata": {},
   "outputs": [],
   "source": [
    "assert np.array(i_zero_left_eig).size == 1"
   ]
  },
  {
   "cell_type": "markdown",
   "metadata": {},
   "source": [
    "Then we take the corresponding eigenvector and normalize to 1:"
   ]
  },
  {
   "cell_type": "code",
   "execution_count": 19,
   "metadata": {},
   "outputs": [
    {
     "data": {
      "text/plain": [
       "array([0.1686747 , 0.69879518, 0.07228916, 0.06024096])"
      ]
     },
     "execution_count": 19,
     "metadata": {},
     "output_type": "execute_result"
    }
   ],
   "source": [
    "π = (V[:,i_zero_left_eig].T[0]/V[:,i_zero_left_eig].sum()).real\n",
    "π"
   ]
  },
  {
   "cell_type": "code",
   "execution_count": 20,
   "metadata": {},
   "outputs": [
    {
     "data": {
      "text/plain": [
       "array([0.1686747 , 0.69879518, 0.07228916, 0.06024096])"
      ]
     },
     "execution_count": 20,
     "metadata": {},
     "output_type": "execute_result"
    }
   ],
   "source": [
    "np.array([14, 58, 6, 5])/83   ## Solution from G. Amir CTMC Notes, pag. 167"
   ]
  },
  {
   "cell_type": "markdown",
   "metadata": {},
   "source": [
    "Verify that $\\pi$ satisfies the balance equation:"
   ]
  },
  {
   "cell_type": "code",
   "execution_count": 21,
   "metadata": {},
   "outputs": [],
   "source": [
    "assert all(np.abs(π @ G) < 1e-12)"
   ]
  },
  {
   "cell_type": "markdown",
   "metadata": {},
   "source": [
    "> **NOTE** The left eigenvector of the 0 eigenvalue is the stationary distribution"
   ]
  },
  {
   "cell_type": "markdown",
   "metadata": {},
   "source": [
    "## Stationary distribution for the embedded chain\n",
    "\n",
    "The embedded chain is the discrete-time Markov chain that switches between\n",
    "states at each time step. The transition matrix of this chain is $\\bf{P}$.\n",
    "The equilibrium distribution is the solution of the discrete balance equation:\n",
    "\n",
    "$$\\bf \\psi \\, P = \\psi$$\n",
    "\n",
    "This can be solved starting from any vector $\\bf \\psi_0$ by successive matrix\n",
    "exponentiation:\n",
    "\n",
    "$${\\bf \\psi} \\approx {\\bf P}^n \\,{\\bf\\psi}_0$$\n",
    "\n",
    "The vector $\\bf \\psi$ can be also computed from the stationary distribution $\\bf \\pi$\n",
    "of the continuous process:\n",
    "\n",
    "$$\\bf \\psi  = \\frac{\\pi v}{\\pi \\cdot v}$$\n",
    "\n",
    "where the numerator is the element-wise product and the denominator is the\n",
    "dot product."
   ]
  },
  {
   "cell_type": "code",
   "execution_count": 22,
   "metadata": {},
   "outputs": [],
   "source": [
    "def CT_stationary_distribution(G):\n",
    "    \"\"\"\n",
    "    Continuous-time stationary distribution computed from \n",
    "    the left eigenvector of the zero eigen value.\n",
    "    \"\"\"\n",
    "    λ, V = la.eig(G.T)\n",
    "    i_zero_left_eig = np.where(np.abs(λ) < 1e-12)[0]\n",
    "    π = (V[:,i_zero_left_eig].T[0]/V[:,i_zero_left_eig].sum()).real\n",
    "    return π\n",
    "\n",
    "\n",
    "def CT_stationary_distribution_from_psi(G, ψ):\n",
    "    \"\"\"\n",
    "    Continuous-time stationary distribution computed from \n",
    "    the stationary distribution ψ of the embedded chain.\n",
    "    \"\"\"\n",
    "    v_inv = 1 / leaving_rates(G)\n",
    "    π = (ψ * v_inv) / np.dot(ψ, v_inv)\n",
    "    return π\n",
    "\n",
    "\n",
    "def DT_embedded_stationary_distribution_from_pi(G, π):\n",
    "    \"\"\"\n",
    "    Discrete-time stationary distribution of the embedded chain\n",
    "    computed from the continous-time stationary distribution π.\n",
    "    \"\"\"\n",
    "    v = leaving_rates(G)\n",
    "    ψ = π * v / np.dot(π, v)\n",
    "    return ψ\n",
    "\n",
    "\n",
    "def DT_embedded_stationary_distribution(G, n=50):\n",
    "    \"\"\"\n",
    "    Discrete-time stationary distribution of the embedded chain\n",
    "    computed by iterative transition matrix multiplication.\n",
    "    \"\"\"\n",
    "    P = P_from_G(G)\n",
    "    ψ0 = np.ones((1, P.shape[0]))\n",
    "    ψ = ψ0 @ np.linalg.matrix_power(P, n)\n",
    "    ψ /= ψ.sum()\n",
    "    return ψ"
   ]
  },
  {
   "cell_type": "code",
   "execution_count": 23,
   "metadata": {},
   "outputs": [
    {
     "data": {
      "text/plain": [
       "array([0.1686747 , 0.69879518, 0.07228916, 0.06024096])"
      ]
     },
     "execution_count": 23,
     "metadata": {},
     "output_type": "execute_result"
    }
   ],
   "source": [
    "π = CT_stationary_distribution(G)\n",
    "assert all(np.abs(π @ G) < 1e-12)  # satisfies the balance equation\n",
    "π"
   ]
  },
  {
   "cell_type": "code",
   "execution_count": 24,
   "metadata": {},
   "outputs": [
    {
     "data": {
      "text/plain": [
       "array([0.40697674, 0.3372093 , 0.13953488, 0.11627907])"
      ]
     },
     "execution_count": 24,
     "metadata": {},
     "output_type": "execute_result"
    }
   ],
   "source": [
    "ψ = DT_embedded_stationary_distribution_from_pi(G, π)\n",
    "assert np.all(np.abs((ψ @ P) - ψ) < 1e-12)  # satisfies the balance equation\n",
    "ψ"
   ]
  },
  {
   "cell_type": "code",
   "execution_count": 25,
   "metadata": {},
   "outputs": [
    {
     "data": {
      "text/plain": [
       "array([0.40697674, 0.3372093 , 0.13953488, 0.11627907])"
      ]
     },
     "execution_count": 25,
     "metadata": {},
     "output_type": "execute_result"
    }
   ],
   "source": [
    "np.array([35/86, 29/86, 6/43, 5/43])  ## Solution from G. Amir CTMC Notes, pag. 167"
   ]
  },
  {
   "cell_type": "code",
   "execution_count": 26,
   "metadata": {},
   "outputs": [],
   "source": [
    "# Test round-trip\n",
    "π2 = CT_stationary_distribution_from_psi(G, ψ)\n",
    "assert np.allclose(π2, π)\n",
    "\n",
    "ψ2 = DT_embedded_stationary_distribution_from_pi(G, π)\n",
    "assert np.allclose(ψ2, ψ)"
   ]
  },
  {
   "cell_type": "code",
   "execution_count": 27,
   "metadata": {},
   "outputs": [],
   "source": [
    "# Test computing ψ by iterative matrix multiplication\n",
    "ψ3 = DT_embedded_stationary_distribution(G, n=80)\n",
    "assert np.allclose(ψ3, ψ)"
   ]
  },
  {
   "cell_type": "code",
   "execution_count": 28,
   "metadata": {},
   "outputs": [
    {
     "data": {
      "text/plain": [
       "(0.48255813953488375, 0.4825581395348837)"
      ]
     },
     "execution_count": 28,
     "metadata": {},
     "output_type": "execute_result"
    }
   ],
   "source": [
    "# Solution from G. Amir CTMC Notes, pag 168\n",
    "# Note: in Amir Notes π is what here we call ψ\n",
    "83/172, np.dot(ψ, 1 / leaving_rates(G)) "
   ]
  },
  {
   "cell_type": "markdown",
   "metadata": {},
   "source": [
    "## Eigen-decomposition\n",
    "\n",
    "A diagonizable matrix $A$ can be decomposed as:\n",
    "\n",
    "$$A = Q \\, D \\, Q^{-1}$$\n",
    "\n",
    "where $D$ is the diagonal matrix of eigenvalues, and $Q$ the\n",
    "corresponding matrix of eigenvectors. See [wikipedia](https://en.wikipedia.org/wiki/Eigendecomposition_of_a_matrix#Fundamental_theory_of_matrix_eigenvectors_and_eigenvalues).\n",
    "\n",
    "Let's verify the decomposition:"
   ]
  },
  {
   "cell_type": "code",
   "execution_count": 29,
   "metadata": {},
   "outputs": [
    {
     "data": {
      "text/plain": [
       "array([-5.75577357e+00+0.47447678j, -5.75577357e+00-0.47447678j,\n",
       "       -1.98719070e-16+0.j        , -2.48845286e+00+0.j        ])"
      ]
     },
     "execution_count": 29,
     "metadata": {},
     "output_type": "execute_result"
    }
   ],
   "source": [
    "λ, V = la.eig(G)\n",
    "λ"
   ]
  },
  {
   "cell_type": "code",
   "execution_count": 30,
   "metadata": {},
   "outputs": [],
   "source": [
    "G2 = (V @ np.diag(λ) @ la.inv(V))"
   ]
  },
  {
   "cell_type": "code",
   "execution_count": 31,
   "metadata": {},
   "outputs": [],
   "source": [
    "assert np.all(np.abs(G - G2) < 1e-12)"
   ]
  },
  {
   "cell_type": "markdown",
   "metadata": {},
   "source": [
    "## Matrix exponential\n",
    "\n",
    "Following Gidi Amir (CTMC Notes, pag. 164), and using the eigen-decomposition, the matrix exponential becomes easy to compute:\n",
    "\n",
    "$$e^{At} = Q \\, e^{Dt} \\, Q^{-1}$$\n",
    "\n",
    "where $e^{Dt}$ is a diagonal matrix with element $e^{\\lambda_i t}$\n",
    "($\\lambda_i$ is the *i*-th eigenvalue). \n",
    "See [wikipedia](https://en.wikipedia.org/wiki/Matrix_exponential#Diagonalizable_case)."
   ]
  },
  {
   "cell_type": "markdown",
   "metadata": {},
   "source": [
    "## Transition probability function\n",
    "\n",
    "The transition probability function is a matrix function defined as:\n",
    "\n",
    "$$P_{ij}(t) = P(X(t) = j \\;|\\: X(0) = i)$$\n",
    "\n",
    "$${\\bf P}(t) = [P_{ij}(t)] $$\n",
    "\n",
    "that gives the probability of being in state $j$ at time $t$ when starting\n",
    "from state $i$.\n",
    "\n",
    "The Kolgomorov Forward and Backward equation state:\n",
    "\n",
    "$${\\bf P'}(t) = {\\bf P}(t) \\cdot {\\bf G} \\qquad {\\rm (forward)}$$\n",
    "$${\\bf P'}(t) = {\\bf G} \\cdot {\\bf P}(t) \\qquad {\\rm (backward)}$$\n",
    "\n",
    "Both equations have the same solution:\n",
    "\n",
    "$$ {\\bf P}(t) = {\\bf P}(0)\\, e^{{\\bf G} t} = e^{{\\bf G} t}$$\n",
    "\n",
    "If $\\alpha$ is a row vector with the initial probability to be in each state, then $\\alpha {\\bf P}(t)$ is a vector with each element equal to\n",
    "\n",
    "$$\\left(\\; \\alpha {\\bf P}(t) \\;\\right)_j = P_\\alpha\\{X(t) = j\\}$$\n",
    "\n",
    "In other words $\\alpha {\\bf P}(t)$ is the probability of being in each state starting from a state distribution $\\alpha$ for $t = 0$."
   ]
  },
  {
   "cell_type": "code",
   "execution_count": 43,
   "metadata": {},
   "outputs": [],
   "source": [
    "def transition_matrix_t(t, G):\n",
    "    λ, V = la.eig(G)\n",
    "    P_t = (V @ np.diag(np.exp(λ * t)) @ la.inv(V)).real\n",
    "    return P_t\n",
    "    \n",
    "def occupancy_vs_t(t, α, G, λ=None, V=None, V_inv=None):\n",
    "    if λ is None:\n",
    "        λ, V = la.eig(G)\n",
    "    if V_inv is None:\n",
    "        V_inv = la.inv(V)\n",
    "    t = np.asarray(t)\n",
    "    P_t = np.zeros((t.size, G.shape[0]))\n",
    "    for i, ti in enumerate(t):\n",
    "        P_ti = (V @ np.diag(np.exp(λ * ti)) @ V_inv).real\n",
    "        P_t[i] = α @ P_ti\n",
    "    return P_t"
   ]
  },
  {
   "cell_type": "code",
   "execution_count": 44,
   "metadata": {},
   "outputs": [],
   "source": [
    "# Inititial probability\n",
    "α = np.array([[1, 0, 0]])\n",
    "assert α.sum() == 1"
   ]
  },
  {
   "cell_type": "code",
   "execution_count": 45,
   "metadata": {},
   "outputs": [],
   "source": [
    "t_axis = np.arange(0, 10, 0.001)\n",
    "P_t = occupancy_vs_t(t_axis, α, G)"
   ]
  },
  {
   "cell_type": "code",
   "execution_count": 46,
   "metadata": {},
   "outputs": [
    {
     "data": {
      "image/png": "[encoded data removed]",
      "text/plain": [
       "<matplotlib.figure.Figure at 0x88c8cc0>"
      ]
     },
     "metadata": {},
     "output_type": "display_data"
    }
   ],
   "source": [
    "plt.semilogx(t_axis, P_t)\n",
    "plt.legend([f'state {i}' for i in range(5)]);\n",
    "plt.xlabel('Time')\n",
    "plt.ylabel('Probability')\n",
    "plt.title('State occupation probability vs time');"
   ]
  },
  {
   "cell_type": "markdown",
   "metadata": {},
   "source": [
    "## Test 2-states"
   ]
  },
  {
   "cell_type": "code",
   "execution_count": 48,
   "metadata": {},
   "outputs": [],
   "source": [
    "num_states = 2\n",
    "Q = np.zeros((num_states, num_states))\n",
    "k01 = 100\n",
    "k10 = 1000\n",
    "Q[0,1] = k01\n",
    "Q[1,0] = k10\n",
    "G = G_from_Q(Q)\n",
    "assert np.all(Q == Q_from_G(G))  # round-trip\n",
    "assert np.all(np.diagonal(G) == -leaving_rates(G))"
   ]
  },
  {
   "cell_type": "code",
   "execution_count": 42,
   "metadata": {},
   "outputs": [
    {
     "data": {
      "text/plain": [
       "array([0.90909091, 0.09090909])"
      ]
     },
     "execution_count": 42,
     "metadata": {},
     "output_type": "execute_result"
    }
   ],
   "source": [
    "π = CT_stationary_distribution(G)\n",
    "assert all(np.abs(π @ G) < 1e-12)  # satisfies the balance equation\n",
    "π"
   ]
  },
  {
   "cell_type": "code",
   "execution_count": 53,
   "metadata": {},
   "outputs": [],
   "source": [
    "assert all([k10/(k01 + k10), k01/(k01 + k10)] == π)"
   ]
  },
  {
   "cell_type": "code",
   "execution_count": 75,
   "metadata": {},
   "outputs": [],
   "source": [
    "# Inititial probability\n",
    "α = np.array([0.2, 0.8])\n",
    "assert α.sum() == 1"
   ]
  },
  {
   "cell_type": "code",
   "execution_count": 76,
   "metadata": {},
   "outputs": [],
   "source": [
    "t = np.arange(0, 1, 0.01)/100\n",
    "P_t = occupancy_vs_t(t, α, G)"
   ]
  },
  {
   "cell_type": "code",
   "execution_count": 77,
   "metadata": {},
   "outputs": [],
   "source": [
    "y0 = (α[0] - π[0]) * np.exp(-(k01 + k10) * t) + π[0]\n",
    "y1 = (α[1] - π[1]) * np.exp(-(k01 + k10) * t) + π[1]"
   ]
  },
  {
   "cell_type": "code",
   "execution_count": 78,
   "metadata": {},
   "outputs": [
    {
     "data": {
      "image/png": "[encoded data removed]",
      "text/plain": [
       "<Figure size 432x288 with 1 Axes>"
      ]
     },
     "metadata": {},
     "output_type": "display_data"
    }
   ],
   "source": [
    "plt.plot(t, P_t)\n",
    "plt.plot(t, y0, ls='--', lw=5, alpha=0.5)\n",
    "plt.plot(t, y1, ls='--', lw=5, alpha=0.5)\n",
    "plt.legend([f'state {i}' for i in range(5)] + ['M. State 0', ['M State 1']]);\n",
    "plt.xlabel('Time')\n",
    "plt.ylabel('Probability')\n",
    "plt.title('State occupation probability vs time');\n",
    "for i, π_i in enumerate(π):\n",
    "    plt.axhline(π_i, ls=':', color=f'C{i}')"
   ]
  },
  {
   "cell_type": "code",
   "execution_count": null,
   "metadata": {},
   "outputs": [],
   "source": []
  }
 ],
 "metadata": {
  "kernelspec": {
   "display_name": "Python 3",
   "language": "python",
   "name": "python3"
  },
  "language_info": {
   "codemirror_mode": {
    "name": "ipython",
    "version": 3
   },
   "file_extension": ".py",
   "mimetype": "text/x-python",
   "name": "python",
   "nbconvert_exporter": "python",
   "pygments_lexer": "ipython3",
   "version": "3.6.4"
  },
  "toc": {
   "nav_menu": {},
   "number_sections": false,
   "sideBar": true,
   "skip_h1_title": false,
   "title_cell": "Table of Contents",
   "title_sidebar": "Contents",
   "toc_cell": false,
   "toc_position": {},
   "toc_section_display": "block",
   "toc_window_display": true
  }
 },
 "nbformat": 4,
 "nbformat_minor": 2
}
